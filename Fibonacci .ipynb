{
 "cells": [
  {
   "cell_type": "code",
   "execution_count": 5,
   "metadata": {},
   "outputs": [
    {
     "name": "stdout",
     "output_type": "stream",
     "text": [
      "How many fibonacci numbers generate? 15\n",
      "[1, 1, 2, 3, 5, 8, 13, 21, 34, 55, 89, 144, 233, 377, 610]\n"
     ]
    }
   ],
   "source": [
    "def fibonacci():\n",
    "    howmany = int(input(\"How many fibonacci numbers generate? \"))\n",
    "    i = 1\n",
    "    if howmany == 0:\n",
    "        fiblist = [0]\n",
    "    elif howmany == 1:\n",
    "        fiblist = [1]\n",
    "    elif howmany == 2:\n",
    "        fiblist = [1, 1]\n",
    "    elif howmany > 2:\n",
    "        fiblist = [1, 1]\n",
    "        while i < (howmany - 1):\n",
    "            fiblist.append(fiblist[i] + fiblist[i - 1])\n",
    "            i += 1\n",
    "    return fiblist\n",
    "print(fibonacci())\n"
   ]
  }
 ],
 "metadata": {
  "kernelspec": {
   "display_name": "Python 3",
   "language": "python",
   "name": "python3"
  },
  "language_info": {
   "codemirror_mode": {
    "name": "ipython",
    "version": 3
   },
   "file_extension": ".py",
   "mimetype": "text/x-python",
   "name": "python",
   "nbconvert_exporter": "python",
   "pygments_lexer": "ipython3",
   "version": "3.6.5"
  }
 },
 "nbformat": 4,
 "nbformat_minor": 2
}
